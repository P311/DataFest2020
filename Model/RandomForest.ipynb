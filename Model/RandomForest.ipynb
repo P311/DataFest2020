{
 "cells": [
  {
   "cell_type": "code",
   "execution_count": 14,
   "metadata": {},
   "outputs": [],
   "source": [
    "import pandas as pd\n",
    "from tensorflow import keras\n",
    "from gensim.models import Phrases\n",
    "from collections import Counter\n",
    "from sklearn.ensemble import RandomForestClassifier\n",
    "from scipy.sparse import lil_matrix\n",
    "from sklearn.feature_extraction.text import TfidfVectorizer\n",
    "import utils\n",
    "import pickle"
   ]
  },
  {
   "cell_type": "code",
   "execution_count": 15,
   "metadata": {},
   "outputs": [],
   "source": [
    "# function to clean original tweets\n",
    "def clean_text(df):\n",
    "    for i in range(df['text'].shape[0]):\n",
    "        df['text'][i] = \" \".join([word for word in df['text'][i].split()\n",
    "                                    if 'http' not in word\n",
    "                                    and not word.startswith('@')\n",
    "                                    # and not word.startswith('#')\n",
    "                                    and word != 'RT'\n",
    "                                    ])\n",
    "    df['text'] = df['text'].str.replace('[^A-Za-z ]+', '')\n",
    "\n",
    "    return df"
   ]
  },
  {
   "cell_type": "code",
   "execution_count": 16,
   "metadata": {},
   "outputs": [
    {
     "name": "stderr",
     "output_type": "stream",
     "text": [
      "/Users/BabeChris/opt/anaconda3/lib/python3.7/site-packages/ipykernel_launcher.py:4: SettingWithCopyWarning: \n",
      "A value is trying to be set on a copy of a slice from a DataFrame\n",
      "\n",
      "See the caveats in the documentation: http://pandas.pydata.org/pandas-docs/stable/user_guide/indexing.html#returning-a-view-versus-a-copy\n",
      "  after removing the cwd from sys.path.\n"
     ]
    }
   ],
   "source": [
    "# process data\n",
    "data = pd.read_csv('/Users/BabeChris/Desktop/4th/STA414/A1/DataFest2020/Training Data/Sentiment.csv')\n",
    "data = data[['text','sentiment']]\n",
    "data = data.replace('Neutral', 0)\n",
    "data = data.replace('Positive', 1)\n",
    "data = data.replace('Negative', -1)\n",
    "data = clean_text(data)\n",
    "\n",
    "# data we use\n",
    "tweet, label = data['text'], data['sentiment']"
   ]
  },
  {
   "cell_type": "code",
   "execution_count": 17,
   "metadata": {},
   "outputs": [],
   "source": [
    "# Convert a collection of raw documents to a matrix of TF-IDF features\n",
    "vectorizer = TfidfVectorizer(ngram_range=(1,2))\n",
    "corpus = [line for line in tweet]\n",
    "\n",
    "# Learn the vocabulary dictionary and return document-term matrix.\n",
    "tfidf = vectorizer.fit(corpus)\n",
    "X = vectorizer.fit_transform(corpus)"
   ]
  },
  {
   "cell_type": "code",
   "execution_count": 52,
   "metadata": {},
   "outputs": [
    {
     "name": "stderr",
     "output_type": "stream",
     "text": [
      "/Users/BabeChris/opt/anaconda3/lib/python3.7/site-packages/sklearn/ensemble/forest.py:245: FutureWarning: The default value of n_estimators will change from 10 in version 0.20 to 100 in 0.22.\n",
      "  \"10 in version 0.20 to 100 in 0.22.\", FutureWarning)\n"
     ]
    },
    {
     "name": "stdout",
     "output_type": "stream",
     "text": [
      "0.9212959366016626\n",
      "0.813\n"
     ]
    }
   ],
   "source": [
    "# R-F model & fitting\n",
    "clf = RandomForestClassifier()\n",
    "clf.fit(X[:-100], label.iloc[:-100])\n",
    "\n",
    "print(clf.score(X[:-1000], label.iloc[:-1000]))\n",
    "print(clf.score(X[-1000:], label.iloc[-1000:]))"
   ]
  },
  {
   "cell_type": "code",
   "execution_count": 53,
   "metadata": {},
   "outputs": [],
   "source": [
    "# Saving model\n",
    "model_path = '/Users/BabeChris/Desktop/UofT/4th/DataFest June/Models/RFmodel.pickle'\n",
    "vectorizer_path = '/Users/BabeChris/Desktop/UofT/4th/DataFest June/Models/RFvectorizer.pickle'\n",
    "pickle.dump(clf, open(model_path, 'wb'))\n",
    "pickle.dump(tfidf, open(vectorizer_path, 'wb'))"
   ]
  },
  {
   "cell_type": "code",
   "execution_count": 56,
   "metadata": {},
   "outputs": [
    {
     "name": "stdout",
     "output_type": "stream",
     "text": [
      "predicted class: 1\n"
     ]
    }
   ],
   "source": [
    "# Load the model\n",
    "model_path = '/Users/BabeChris/Desktop/UofT/4th/DataFest June/Models/RFmodel.pickle'\n",
    "vectorizer_path = '/Users/BabeChris/Desktop/UofT/4th/DataFest June/Models/RFvectorizer.pickle'\n",
    "\n",
    "model = pickle.load(open(model_path,'rb'))\n",
    "vectorizer = pickle.load(open(vectorizer_path,'rb'))\n",
    "\n",
    "pred = model.predict(vectorizer.transform([\"i have got a new phone. its from Apple.. and i love it!\"]))[0]\n",
    "print (\"predicted class:\", pred)"
   ]
  },
  {
   "cell_type": "code",
   "execution_count": null,
   "metadata": {},
   "outputs": [],
   "source": []
  }
 ],
 "metadata": {
  "kernelspec": {
   "display_name": "Python 3",
   "language": "python",
   "name": "python3"
  },
  "language_info": {
   "codemirror_mode": {
    "name": "ipython",
    "version": 3
   },
   "file_extension": ".py",
   "mimetype": "text/x-python",
   "name": "python",
   "nbconvert_exporter": "python",
   "pygments_lexer": "ipython3",
   "version": "3.7.4"
  }
 },
 "nbformat": 4,
 "nbformat_minor": 2
}
